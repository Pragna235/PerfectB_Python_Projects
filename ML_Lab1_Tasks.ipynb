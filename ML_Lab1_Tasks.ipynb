{
  "nbformat": 4,
  "nbformat_minor": 0,
  "metadata": {
    "colab": {
      "provenance": [],
      "authorship_tag": "ABX9TyN20YuuvFGP/SE1aQDKjNwI",
      "include_colab_link": true
    },
    "kernelspec": {
      "name": "python3",
      "display_name": "Python 3"
    },
    "language_info": {
      "name": "python"
    }
  },
  "cells": [
    {
      "cell_type": "markdown",
      "metadata": {
        "id": "view-in-github",
        "colab_type": "text"
      },
      "source": [
        "<a href=\"https://colab.research.google.com/github/Pragna235/Python_Assignments/blob/main/ML_Lab1_Tasks.ipynb\" target=\"_parent\"><img src=\"https://colab.research.google.com/assets/colab-badge.svg\" alt=\"Open In Colab\"/></a>"
      ]
    },
    {
      "cell_type": "code",
      "execution_count": 3,
      "metadata": {
        "id": "BEm34Q1isD4S",
        "colab": {
          "base_uri": "https://localhost:8080/"
        },
        "outputId": "3905d70b-d344-4bcf-aaac-31e5a8875c97"
      },
      "outputs": [
        {
          "output_type": "stream",
          "name": "stdout",
          "text": [
            "[2, 3, 4, 5, 6]\n"
          ]
        }
      ],
      "source": [
        "# Write a Python Funtion to remove duplicate elements from a list without changing the order of elements\n",
        "#Approach 1\n",
        "from collections import OrderedDict\n",
        "a = [2,3,3,4,2,5,6,4,3,5,4,2]\n",
        "b = list(OrderedDict.fromkeys(a))\n",
        "print(b)"
      ]
    },
    {
      "cell_type": "code",
      "source": [
        "#Approach 2\n",
        "a = [0,1,2,3,4,1,2,3,5]\n",
        "b=list(set(a))\n",
        "b.sort(key=a.index)\n",
        "print(b)"
      ],
      "metadata": {
        "colab": {
          "base_uri": "https://localhost:8080/"
        },
        "id": "I6POdT9fs3ga",
        "outputId": "b52863aa-121b-4230-ebb0-2e98d4c7ec72"
      },
      "execution_count": 4,
      "outputs": [
        {
          "output_type": "stream",
          "name": "stdout",
          "text": [
            "[0, 1, 2, 3, 4, 5]\n"
          ]
        }
      ]
    },
    {
      "cell_type": "code",
      "source": [
        "# Implement a functino to find the second smallest element in a list without using built-in functions\n",
        "import math\n",
        "arr = [10,13,14,17,11,25,16]\n",
        "first,second = math.inf, math.inf\n",
        "\n",
        "for i in range(len(arr)):\n",
        "  if arr[i]<first:\n",
        "    first=arr[i]\n",
        "\n",
        "for i in range(len(arr)):\n",
        "  if arr[i]!=first and arr[i]<second:\n",
        "    second =arr[i]\n",
        "\n",
        "print(second)"
      ],
      "metadata": {
        "colab": {
          "base_uri": "https://localhost:8080/"
        },
        "id": "SU1fWVz_tApb",
        "outputId": "d0172e5c-7dca-473a-f481-885952cd8446"
      },
      "execution_count": 5,
      "outputs": [
        {
          "output_type": "stream",
          "name": "stdout",
          "text": [
            "11\n"
          ]
        }
      ]
    },
    {
      "cell_type": "code",
      "source": [
        "# Write a python function to check if two tuples have the same elements, regardless of their order\n",
        "from collections import Counter\n",
        "\n",
        "def equal_tuples(a,b):\n",
        "  return Counter(a)==Counter(b)\n",
        "\n",
        "a=(1,2,3,4,6,4,3,5)\n",
        "b=(2,5,3,4,6,4,1,3)\n",
        "\n",
        "equal_tuples(a,b)"
      ],
      "metadata": {
        "colab": {
          "base_uri": "https://localhost:8080/"
        },
        "id": "WwLf-JOtt_dJ",
        "outputId": "da38f46d-cabf-41de-8bda-f4478b693759"
      },
      "execution_count": 13,
      "outputs": [
        {
          "output_type": "execute_result",
          "data": {
            "text/plain": [
              "True"
            ]
          },
          "metadata": {},
          "execution_count": 13
        }
      ]
    },
    {
      "cell_type": "code",
      "source": [
        "# Implement a function that returns the count of occurrences of a specific element in a tuple\n",
        "from collections import Counter\n",
        "\n",
        "def occurrences(a,ele):\n",
        "  return Counter(a)[ele]\n",
        "\n",
        "a=(1,2,3,4,6,4,3,5)\n",
        "occurrences(a,4)"
      ],
      "metadata": {
        "colab": {
          "base_uri": "https://localhost:8080/"
        },
        "id": "aiWlcaWvwo19",
        "outputId": "8995abab-bfe6-42e2-e190-33c54ab94ad8"
      },
      "execution_count": 14,
      "outputs": [
        {
          "output_type": "execute_result",
          "data": {
            "text/plain": [
              "2"
            ]
          },
          "metadata": {},
          "execution_count": 14
        }
      ]
    },
    {
      "cell_type": "code",
      "source": [
        "# Write a Python program to merge two dictionaries and concatenate values of common keys\n",
        "def merge_and_concatenate(dict1,dict2):\n",
        "  merged_dict={}\n",
        "\n",
        "  for key,value in dict1.items():\n",
        "    merged_dict[key]=value\n",
        "\n",
        "  for key,value in dict2.items():\n",
        "    if key in merged_dict:\n",
        "      merged_dict[key]+=value\n",
        "    else:\n",
        "      merged_dict[key]=value\n",
        "  return merged_dict\n",
        "\n",
        "a = {'a':\"apple\", \"b\":\"berry\", \"c\":\"cherry\"}\n",
        "b = {'b':\"banana\",\"d\":\"dates\",\"c\":\"coconut\"}\n",
        "\n",
        "merge_and_concatenate(a,b)\n"
      ],
      "metadata": {
        "colab": {
          "base_uri": "https://localhost:8080/"
        },
        "id": "McVtwWrGxTp2",
        "outputId": "c14d574e-a68c-4343-e74e-f7fba2549b45"
      },
      "execution_count": 15,
      "outputs": [
        {
          "output_type": "execute_result",
          "data": {
            "text/plain": [
              "{'a': 'apple', 'b': 'berrybanana', 'c': 'cherrycoconut', 'd': 'dates'}"
            ]
          },
          "metadata": {},
          "execution_count": 15
        }
      ]
    },
    {
      "cell_type": "code",
      "source": [
        "# Create a function that takes a dictionary and returns the key with the maximum value\n",
        "def key_with_max_value(input):\n",
        "  if not input:\n",
        "    return None\n",
        "  max_key = max(input,key = input.get)\n",
        "  return max_key\n",
        "\n",
        "sample = {'a':10, 'b':5, 'c':20, 'd':15}\n",
        "result = key_with_max_value(sample)\n",
        "\n",
        "if result is not None:\n",
        "  print(result)\n",
        "else:\n",
        "  print('Empty Dictionary')"
      ],
      "metadata": {
        "colab": {
          "base_uri": "https://localhost:8080/"
        },
        "id": "IdckAgwfz6aH",
        "outputId": "18d30cf0-1937-4f15-a807-9c819d7a1693"
      },
      "execution_count": 16,
      "outputs": [
        {
          "output_type": "stream",
          "name": "stdout",
          "text": [
            "c\n"
          ]
        }
      ]
    },
    {
      "cell_type": "code",
      "source": [
        "# Write a python function to check is a set is a subset of another set without using the built-in issubset() method\n",
        "def is_subset(set1, set2):\n",
        "  return all(element in set2 for element in set1)\n",
        "\n",
        "a = {1,2,3}\n",
        "b = {1,2,3,4,5}\n",
        "\n",
        "if(is_subset(a,b)):\n",
        "  print(\"Yes\")\n",
        "else:\n",
        "  print(\"No\")"
      ],
      "metadata": {
        "colab": {
          "base_uri": "https://localhost:8080/"
        },
        "id": "ry-ehreH139c",
        "outputId": "50800210-d2f8-46fe-a2d1-493a43e35a69"
      },
      "execution_count": 17,
      "outputs": [
        {
          "output_type": "stream",
          "name": "stdout",
          "text": [
            "Yes\n"
          ]
        }
      ]
    },
    {
      "cell_type": "code",
      "source": [
        "# Implement a function to find the intersection of two sets using only set operations\n",
        "def intersection(set1,set2):\n",
        "  return set1 & set2;\n",
        "\n",
        "a={1,2,3,4}\n",
        "b={3,4,5,6}\n",
        "\n",
        "intersection(a,b)"
      ],
      "metadata": {
        "colab": {
          "base_uri": "https://localhost:8080/"
        },
        "id": "qLZXxNum29P0",
        "outputId": "cf995368-512d-49f2-bede-62018e216100"
      },
      "execution_count": 18,
      "outputs": [
        {
          "output_type": "execute_result",
          "data": {
            "text/plain": [
              "{3, 4}"
            ]
          },
          "metadata": {},
          "execution_count": 18
        }
      ]
    }
  ]
}